{
 "cells": [
  {
   "cell_type": "code",
   "execution_count": 1,
   "metadata": {},
   "outputs": [
    {
     "name": "stderr",
     "output_type": "stream",
     "text": [
      "2024-01-18 17:53:53.331988: E external/local_xla/xla/stream_executor/cuda/cuda_dnn.cc:9261] Unable to register cuDNN factory: Attempting to register factory for plugin cuDNN when one has already been registered\n",
      "2024-01-18 17:53:53.332158: E external/local_xla/xla/stream_executor/cuda/cuda_fft.cc:607] Unable to register cuFFT factory: Attempting to register factory for plugin cuFFT when one has already been registered\n",
      "2024-01-18 17:53:53.337073: E external/local_xla/xla/stream_executor/cuda/cuda_blas.cc:1515] Unable to register cuBLAS factory: Attempting to register factory for plugin cuBLAS when one has already been registered\n",
      "2024-01-18 17:53:53.376468: I tensorflow/core/platform/cpu_feature_guard.cc:182] This TensorFlow binary is optimized to use available CPU instructions in performance-critical operations.\n",
      "To enable the following instructions: AVX2 FMA, in other operations, rebuild TensorFlow with the appropriate compiler flags.\n",
      "2024-01-18 17:54:01.637755: W tensorflow/compiler/tf2tensorrt/utils/py_utils.cc:38] TF-TRT Warning: Could not find TensorRT\n",
      "Neither CUDA nor MPS are available - defaulting to CPU. Note: This module is much faster with a GPU.\n"
     ]
    }
   ],
   "source": [
    "import easyocr\n",
    "import pandas as pd\n",
    "import keras_ocr\n",
    "import matplotlib.pyplot as plt\n",
    "import numpy as np\n",
    "\n",
    "# pipeline = keras_ocr.pipeline.Pipeline()\n",
    "\n",
    "reader = easyocr.Reader(['en'], gpu = True)"
   ]
  },
  {
   "cell_type": "code",
   "execution_count": 2,
   "metadata": {},
   "outputs": [
    {
     "data": {
      "text/plain": [
       "[([[48, 8], [252, 8], [252, 32], [48, 32]],\n",
       "  \"{0U24s0*(6956   DEV FIV nknc4 'Po8n4n\",\n",
       "  0.016520784706611922),\n",
       " ([[49, 37], [129, 37], [129, 53], [49, 53]],\n",
       "  '[iu 440:*Uin',\n",
       "  0.00825723612569158),\n",
       " ([[135, 39], [229, 39], [229, 55], [135, 55]],\n",
       "  'HeM eull PJIAYM',\n",
       "  0.038795339908584026),\n",
       " ([[226, 28], [262, 28], [262, 56], [226, 56]], \"' Yhn\", 0.08238768463366536),\n",
       " ([[211, 51], [233, 51], [233, 67], [211, 67]], 'do0', 0.258719741657874),\n",
       " ([[51, 61], [87, 61], [87, 75], [51, 75]], 'iI4 V6\"', 0.0721569325952057),\n",
       " ([[107, 61], [129, 61], [129, 75], [107, 75]], '954', 0.0740224851721004),\n",
       " ([[135, 61], [193, 61], [193, 77], [135, 77]], 'LH ele', 0.12283745780396979),\n",
       " ([[55, 83], [129, 83], [129, 101], [55, 101]],\n",
       "  '059LQ\" , iX',\n",
       "  0.07291371034392737),\n",
       " ([[135, 85], [175, 85], [175, 101], [135, 101]],\n",
       "  'smuoke',\n",
       "  0.13719829795571928),\n",
       " ([[224, 76], [262, 76], [262, 104], [224, 104]],\n",
       "  \"'AVEIA\",\n",
       "  0.2969463303217211),\n",
       " ([[209, 101], [231, 101], [231, 115], [209, 115]],\n",
       "  'Q00',\n",
       "  0.20243784199992532),\n",
       " ([[49, 107], [175, 107], [175, 125], [49, 125]],\n",
       "  \"(mu,'JuU' ' 1410   Snnjke\",\n",
       "  0.06578017518079604),\n",
       " ([[187, 111], [219, 111], [219, 127], [187, 127]],\n",
       "  'HARRA',\n",
       "  0.0650295955638674),\n",
       " ([[49, 131], [127, 131], [127, 147], [49, 147]],\n",
       "  \"7Ui0:5'(uui?\",\n",
       "  0.007680898458120726),\n",
       " ([[133, 131], [211, 131], [211, 149], [133, 149]],\n",
       "  'FrU\"Sh |VMEF €',\n",
       "  0.020956753174989157),\n",
       " ([[204, 98], [258, 98], [258, 156], [204, 156]], 'Ge', 0.003002383516777485),\n",
       " ([[49, 155], [127, 155], [127, 171], [49, 171]],\n",
       "  'algu_|g Mu12',\n",
       "  0.0384976945752114),\n",
       " ([[135, 157], [201, 157], [201, 173], [135, 173]],\n",
       "  'GEL Qul SJVO',\n",
       "  0.09851048990572883),\n",
       " ([[200, 144], [230, 144], [230, 174], [200, 174]],\n",
       "  \"'c9od\",\n",
       "  0.08860766576570377),\n",
       " ([[219, 159], [247, 159], [247, 173], [219, 173]],\n",
       "  'DISP',\n",
       "  0.4195072054862976),\n",
       " ([[207, 171], [229, 171], [229, 185], [207, 185]],\n",
       "  '0q0',\n",
       "  0.17135713876686814),\n",
       " ([[49, 176], [127, 176], [127, 195], [49, 195]],\n",
       "  '7046512946210',\n",
       "  0.4703428681641979),\n",
       " ([[133, 179], [221, 179], [221, 197], [133, 197]],\n",
       "  'CREHE VE NFo LI',\n",
       "  0.12765992450094188),\n",
       " ([[222, 172], [268, 172], [268, 198], [222, 198]],\n",
       "  \"'sil 50i\",\n",
       "  0.3874823901806578),\n",
       " ([[207, 195], [243, 195], [243, 209], [207, 209]],\n",
       "  '0o0 Wd',\n",
       "  0.14538880985495944),\n",
       " ([[49, 201], [127, 201], [127, 217], [49, 217]],\n",
       "  '74W3O44660205',\n",
       "  0.031299967089550636),\n",
       " ([[133, 203], [211, 203], [211, 219], [133, 219]],\n",
       "  \"COWD IC' WMador\",\n",
       "  0.0955370171874131),\n",
       " ([[219, 203], [249, 203], [249, 221], [219, 221]],\n",
       "  '[TSEA',\n",
       "  0.2074591353366713),\n",
       " ([[49, 225], [127, 225], [127, 241], [49, 241]],\n",
       "  '{ubi4ss |U0)',\n",
       "  0.06520218135303857),\n",
       " ([[132, 216], [228, 216], [228, 244], [132, 244]],\n",
       "  'AUVa PL HFU\"AUDon',\n",
       "  0.04307454977139757),\n",
       " ([[213, 214], [267, 214], [267, 247], [213, 247]],\n",
       "  '08 HUdoee',\n",
       "  0.05171244485702626),\n",
       " ([[205, 241], [241, 241], [241, 255], [205, 255]],\n",
       "  '000 Wn',\n",
       "  0.24560043283989516),\n",
       " ([[251, 241], [283, 241], [283, 257], [251, 257]],\n",
       "  '40,90',\n",
       "  0.3089576651899381),\n",
       " ([[46, 246], [127, 246], [127, 265], [46, 265]],\n",
       "  \"704J|459'7336\",\n",
       "  0.07253599090930364),\n",
       " ([[133, 251], [237, 251], [237, 267], [133, 267]],\n",
       "  'AGu:W MiLLMSoqul',\n",
       "  0.0395629431427978),\n",
       " ([[205, 263], [227, 263], [227, 279], [205, 279]], 'Qoo', 0.3521286411954987),\n",
       " ([[47, 271], [91, 271], [91, 285], [47, 285]],\n",
       "  'iUlbecd',\n",
       "  0.10876632478323278),\n",
       " ([[131, 271], [225, 271], [225, 289], [131, 289]],\n",
       "  'SA CIZ 40X55k0',\n",
       "  0.10379808028354437),\n",
       " ([[226, 266], [250, 266], [250, 292], [226, 292]], '036', 0.8403572071575423),\n",
       " ([[205, 285], [243, 285], [243, 301], [205, 301]],\n",
       "  'Qoo Ut',\n",
       "  0.2965767108936903),\n",
       " ([[176.7811992150991, 86.67179882264863],\n",
       "   [242.07978778758297, 44.58320577754225],\n",
       "   [261.2188007849009, 78.32820117735137],\n",
       "   [195.92021221241703, 120.41679422245775]],\n",
       "  'Worggoh',\n",
       "  0.02780775640706751)]"
      ]
     },
     "execution_count": 2,
     "metadata": {},
     "output_type": "execute_result"
    }
   ],
   "source": [
    "receipt_file_name = \"pao_de_acucar/pao_de_acucar_3.jpeg\"\n",
    "results = reader.readtext(receipt_file_name)\n",
    "results"
   ]
  },
  {
   "cell_type": "code",
   "execution_count": 3,
   "metadata": {},
   "outputs": [
    {
     "data": {
      "text/html": [
       "<div>\n",
       "<style scoped>\n",
       "    .dataframe tbody tr th:only-of-type {\n",
       "        vertical-align: middle;\n",
       "    }\n",
       "\n",
       "    .dataframe tbody tr th {\n",
       "        vertical-align: top;\n",
       "    }\n",
       "\n",
       "    .dataframe thead th {\n",
       "        text-align: right;\n",
       "    }\n",
       "</style>\n",
       "<table border=\"1\" class=\"dataframe\">\n",
       "  <thead>\n",
       "    <tr style=\"text-align: right;\">\n",
       "      <th></th>\n",
       "      <th>bbox</th>\n",
       "      <th>text</th>\n",
       "      <th>conf</th>\n",
       "    </tr>\n",
       "  </thead>\n",
       "  <tbody>\n",
       "    <tr>\n",
       "      <th>0</th>\n",
       "      <td>[[48, 8], [252, 8], [252, 32], [48, 32]]</td>\n",
       "      <td>{0U24s0*(6956   DEV FIV nknc4 'Po8n4n</td>\n",
       "      <td>0.016521</td>\n",
       "    </tr>\n",
       "    <tr>\n",
       "      <th>1</th>\n",
       "      <td>[[49, 37], [129, 37], [129, 53], [49, 53]]</td>\n",
       "      <td>[iu 440:*Uin</td>\n",
       "      <td>0.008257</td>\n",
       "    </tr>\n",
       "    <tr>\n",
       "      <th>2</th>\n",
       "      <td>[[135, 39], [229, 39], [229, 55], [135, 55]]</td>\n",
       "      <td>HeM eull PJIAYM</td>\n",
       "      <td>0.038795</td>\n",
       "    </tr>\n",
       "    <tr>\n",
       "      <th>3</th>\n",
       "      <td>[[226, 28], [262, 28], [262, 56], [226, 56]]</td>\n",
       "      <td>' Yhn</td>\n",
       "      <td>0.082388</td>\n",
       "    </tr>\n",
       "    <tr>\n",
       "      <th>4</th>\n",
       "      <td>[[211, 51], [233, 51], [233, 67], [211, 67]]</td>\n",
       "      <td>do0</td>\n",
       "      <td>0.258720</td>\n",
       "    </tr>\n",
       "  </tbody>\n",
       "</table>\n",
       "</div>"
      ],
      "text/plain": [
       "                                           bbox  \\\n",
       "0      [[48, 8], [252, 8], [252, 32], [48, 32]]   \n",
       "1    [[49, 37], [129, 37], [129, 53], [49, 53]]   \n",
       "2  [[135, 39], [229, 39], [229, 55], [135, 55]]   \n",
       "3  [[226, 28], [262, 28], [262, 56], [226, 56]]   \n",
       "4  [[211, 51], [233, 51], [233, 67], [211, 67]]   \n",
       "\n",
       "                                    text      conf  \n",
       "0  {0U24s0*(6956   DEV FIV nknc4 'Po8n4n  0.016521  \n",
       "1                           [iu 440:*Uin  0.008257  \n",
       "2                        HeM eull PJIAYM  0.038795  \n",
       "3                                  ' Yhn  0.082388  \n",
       "4                                    do0  0.258720  "
      ]
     },
     "execution_count": 3,
     "metadata": {},
     "output_type": "execute_result"
    }
   ],
   "source": [
    "\n",
    "easyocr_df = pd.DataFrame(results, columns=['bbox','text','conf'])\n",
    "easyocr_df.head()"
   ]
  },
  {
   "cell_type": "code",
   "execution_count": 6,
   "metadata": {},
   "outputs": [],
   "source": [
    "def plot_compare(img_fn, easyocr_df):\n",
    "    img_id = img_fn.split('/')[-1].split('.')[0]\n",
    "    fig, axs = plt.subplots(1, 1, figsize=(15, 10))\n",
    "\n",
    "    # easy_results = easyocr_df.query('img_id == @img_id')[['text','bbox']].values.tolist()\n",
    "    easy_results = easyocr_df[['text','bbox']].values.tolist()\n",
    "    easy_results = [(x[0], np.array(x[1])) for x in easy_results]\n",
    "\n",
    "    keras_ocr.tools.drawAnnotations(plt.imread(img_fn), easy_results, ax=axs[0])\n",
    "    \n",
    "    axs[0].set_title('easyocr results', fontsize=24)\n",
    "    plt.show()"
   ]
  },
  {
   "cell_type": "code",
   "execution_count": 7,
   "metadata": {},
   "outputs": [
    {
     "ename": "TypeError",
     "evalue": "'Axes' object is not subscriptable",
     "output_type": "error",
     "traceback": [
      "\u001b[0;31m---------------------------------------------------------------------------\u001b[0m",
      "\u001b[0;31mTypeError\u001b[0m                                 Traceback (most recent call last)",
      "Cell \u001b[0;32mIn[7], line 1\u001b[0m\n\u001b[0;32m----> 1\u001b[0m \u001b[43mplot_compare\u001b[49m\u001b[43m(\u001b[49m\u001b[43mreceipt_file_name\u001b[49m\u001b[43m,\u001b[49m\u001b[43m \u001b[49m\u001b[43measyocr_df\u001b[49m\u001b[43m)\u001b[49m\n",
      "Cell \u001b[0;32mIn[6], line 9\u001b[0m, in \u001b[0;36mplot_compare\u001b[0;34m(img_fn, easyocr_df)\u001b[0m\n\u001b[1;32m      6\u001b[0m easy_results \u001b[38;5;241m=\u001b[39m easyocr_df[[\u001b[38;5;124m'\u001b[39m\u001b[38;5;124mtext\u001b[39m\u001b[38;5;124m'\u001b[39m,\u001b[38;5;124m'\u001b[39m\u001b[38;5;124mbbox\u001b[39m\u001b[38;5;124m'\u001b[39m]]\u001b[38;5;241m.\u001b[39mvalues\u001b[38;5;241m.\u001b[39mtolist()\n\u001b[1;32m      7\u001b[0m easy_results \u001b[38;5;241m=\u001b[39m [(x[\u001b[38;5;241m0\u001b[39m], np\u001b[38;5;241m.\u001b[39marray(x[\u001b[38;5;241m1\u001b[39m])) \u001b[38;5;28;01mfor\u001b[39;00m x \u001b[38;5;129;01min\u001b[39;00m easy_results]\n\u001b[1;32m      8\u001b[0m keras_ocr\u001b[38;5;241m.\u001b[39mtools\u001b[38;5;241m.\u001b[39mdrawAnnotations(plt\u001b[38;5;241m.\u001b[39mimread(img_fn), \n\u001b[0;32m----> 9\u001b[0m                                 easy_results, ax\u001b[38;5;241m=\u001b[39m\u001b[43maxs\u001b[49m\u001b[43m[\u001b[49m\u001b[38;5;241;43m0\u001b[39;49m\u001b[43m]\u001b[49m)\n\u001b[1;32m     10\u001b[0m axs[\u001b[38;5;241m0\u001b[39m]\u001b[38;5;241m.\u001b[39mset_title(\u001b[38;5;124m'\u001b[39m\u001b[38;5;124measyocr results\u001b[39m\u001b[38;5;124m'\u001b[39m, fontsize\u001b[38;5;241m=\u001b[39m\u001b[38;5;241m24\u001b[39m)\n\u001b[1;32m     11\u001b[0m plt\u001b[38;5;241m.\u001b[39mshow()\n",
      "\u001b[0;31mTypeError\u001b[0m: 'Axes' object is not subscriptable"
     ]
    },
    {
     "data": {
      "image/png": "[encoded data removed]",
      "text/plain": [
       "<Figure size 1500x1000 with 1 Axes>"
      ]
     },
     "metadata": {},
     "output_type": "display_data"
    }
   ],
   "source": [
    "plot_compare(receipt_file_name, easyocr_df)"
   ]
  }
 ],
 "metadata": {
  "kernelspec": {
   "display_name": ".venv",
   "language": "python",
   "name": "python3"
  },
  "language_info": {
   "codemirror_mode": {
    "name": "ipython",
    "version": 3
   },
   "file_extension": ".py",
   "mimetype": "text/x-python",
   "name": "python",
   "nbconvert_exporter": "python",
   "pygments_lexer": "ipython3",
   "version": "3.10.12"
  }
 },
 "nbformat": 4,
 "nbformat_minor": 2
}
